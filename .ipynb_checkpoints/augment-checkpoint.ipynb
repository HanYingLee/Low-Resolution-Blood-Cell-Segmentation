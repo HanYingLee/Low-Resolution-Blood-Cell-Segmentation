{
 "cells": [
  {
   "cell_type": "code",
   "execution_count": null,
   "id": "7c2d9196-f0f7-410d-b02d-442d2b77088c",
   "metadata": {},
   "outputs": [],
   "source": [
    "#This code is for augment data for training unet.\n",
    "\n",
    "import os\n",
    "from PIL import Image\n",
    "from torchvision import transforms\n",
    "\n",
    "# Define the directories for data and mask images\n",
    "data_dir = 'augmented_images'  # Replace with your data folder path\n",
    "mask_dir = 'augmented_masks'  # Replace with your mask folder path\n",
    "\n",
    "# Create directories for augmented images and masks if they don't exist\n",
    "os.makedirs('augmented_images', exist_ok=True)\n",
    "os.makedirs('augmented_masks', exist_ok=True)\n",
    "\n",
    "# Define the augmentations you want to apply\n",
    "augmentation = transforms.Compose([\n",
    "    transforms.RandomHorizontalFlip(),\n",
    "    transforms.RandomVerticalFlip(),\n",
    "    transforms.RandomRotation(90),\n",
    "])\n",
    "\n",
    "# Function to apply augmentations and save them\n",
    "def apply_augmentation_and_save(data_file, mask_file):\n",
    "    # Open the image and mask\n",
    "    data_img = Image.open(data_file)\n",
    "    mask_img = Image.open(mask_file)\n",
    "\n",
    "    # Apply augmentation to data and mask\n",
    "    augmented_data = augmentation(data_img)\n",
    "    augmented_mask = augmentation(mask_img)\n",
    "\n",
    "    # Save the augmented images and masks\n",
    "    augmented_data.save(f'augmented_images/{os.path.basename(data_file)}')\n",
    "    augmented_mask.save(f'augmented_masks/{os.path.basename(mask_file)}')\n",
    "\n",
    "# Get all files from the data and mask folders\n",
    "data_files = [os.path.join(data_dir, f) for f in os.listdir(data_dir) if f.endswith(('.png', '.jpg', '.jpeg'))]\n",
    "mask_files = [os.path.join(mask_dir, f) for f in os.listdir(mask_dir) if f.endswith(('.png', '.jpg', '.jpeg'))]\n",
    "\n",
    "# Ensure the number of data and mask files match\n",
    "if len(data_files) != len(mask_files):\n",
    "    print(f\"Warning: Number of data files ({len(data_files)}) doesn't match number of mask files ({len(mask_files)}).\")\n",
    "else:\n",
    "    # Apply the augmentations for each pair of data and mask\n",
    "    for data_file, mask_file in zip(data_files, mask_files):\n",
    "        apply_augmentation_and_save(data_file, mask_file)\n"
   ]
  }
 ],
 "metadata": {
  "kernelspec": {
   "display_name": "Python 3 (ipykernel)",
   "language": "python",
   "name": "python3"
  },
  "language_info": {
   "codemirror_mode": {
    "name": "ipython",
    "version": 3
   },
   "file_extension": ".py",
   "mimetype": "text/x-python",
   "name": "python",
   "nbconvert_exporter": "python",
   "pygments_lexer": "ipython3",
   "version": "3.11.0"
  }
 },
 "nbformat": 4,
 "nbformat_minor": 5
}
